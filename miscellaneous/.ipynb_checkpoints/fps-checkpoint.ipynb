{
 "cells": [
  {
   "cell_type": "markdown",
   "metadata": {},
   "source": [
    "Loading the datset # need to be parsed by ase\n"
   ]
  },
  {
   "cell_type": "code",
   "execution_count": 1,
   "metadata": {},
   "outputs": [
    {
     "ename": "ModuleNotFoundError",
     "evalue": "No module named 'chemiscope'",
     "output_type": "error",
     "traceback": [
      "\u001b[0;31m---------------------------------------------------------------------------\u001b[0m",
      "\u001b[0;31mModuleNotFoundError\u001b[0m                       Traceback (most recent call last)",
      "Cell \u001b[0;32mIn[1], line 2\u001b[0m\n\u001b[1;32m      1\u001b[0m \u001b[38;5;28;01mfrom\u001b[39;00m \u001b[38;5;21;01mase\u001b[39;00m\u001b[38;5;21;01m.\u001b[39;00m\u001b[38;5;21;01mio\u001b[39;00m \u001b[38;5;28;01mimport\u001b[39;00m read, write\n\u001b[0;32m----> 2\u001b[0m \u001b[38;5;28;01mimport\u001b[39;00m \u001b[38;5;21;01mchemiscope\u001b[39;00m\n\u001b[1;32m      3\u001b[0m \u001b[38;5;28;01mimport\u001b[39;00m \u001b[38;5;21;01mnumpy\u001b[39;00m \u001b[38;5;28;01mas\u001b[39;00m \u001b[38;5;21;01mnp\u001b[39;00m\n\u001b[1;32m      4\u001b[0m \u001b[38;5;28;01mimport\u001b[39;00m \u001b[38;5;21;01mos\u001b[39;00m\n",
      "\u001b[0;31mModuleNotFoundError\u001b[0m: No module named 'chemiscope'"
     ]
    }
   ],
   "source": [
    "from ase.io import read, write\n",
    "import chemiscope\n",
    "import numpy as np\n",
    "import os\n",
    "\n",
    "from rascal.representations import SphericalInvariants as SOAP\n",
    "from skmatter.preprocessing import StandardFlexibleScaler\n",
    "from sklearn.decomposition import PCA\n",
    "from tqdm.auto import tqdm\n"
   ]
  },
  {
   "cell_type": "code",
   "execution_count": 3,
   "metadata": {},
   "outputs": [
    {
     "name": "stdout",
     "output_type": "stream",
     "text": [
      "Number of frames:  31872\n",
      "Number of atoms/frame:  144\n",
      "Available structure properties:  ['energy']\n",
      "Available atom-level properties:  ['forces', 'numbers', 'positions']\n"
     ]
    }
   ],
   "source": [
    "structure_file = '../dataset/full/full_dataset.extxyz'\n",
    "frames = read(structure_file, index=':', format='extxyz')  #eV\n",
    "\n",
    "available_structure_properties = list(set([k for frame in frames for k in frame.info.keys()]))\n",
    "available_atom_level_properties = list(set([k for frame in frames for k in frame.arrays.keys()]))\n",
    "\n",
    "print('Number of frames: ', len(frames))\n",
    "print('Number of atoms/frame: ', len(frames[0]))\n",
    "print('Available structure properties: ', available_structure_properties)\n",
    "print('Available atom-level properties: ', available_atom_level_properties)"
   ]
  },
  {
   "cell_type": "markdown",
   "metadata": {},
   "source": [
    "Creating the atomic enviroments (SOAP descriptors)"
   ]
  },
  {
   "cell_type": "code",
   "execution_count": 7,
   "metadata": {},
   "outputs": [],
   "source": [
    "SOAP_HYPERS = {\n",
    "    \"interaction_cutoff\": 3.5,\n",
    "    \"max_radial\": 6,\n",
    "    \"max_angular\": 6,\n",
    "    \"gaussian_sigma_constant\": 0.4,\n",
    "    \"cutoff_smooth_width\": 0.5,\n",
    "    \"gaussian_sigma_type\": \"Constant\",\n",
    "}"
   ]
  },
  {
   "cell_type": "code",
   "execution_count": 8,
   "metadata": {},
   "outputs": [
    {
     "name": "stdout",
     "output_type": "stream",
     "text": [
      "computing SOAP features...\n"
     ]
    },
    {
     "data": {
      "application/vnd.jupyter.widget-view+json": {
       "model_id": "7ddc3768e5e747c28b89346f76d92c44",
       "version_major": 2,
       "version_minor": 0
      },
      "text/plain": [
       "  0%|          | 0/31872 [00:00<?, ?it/s]"
      ]
     },
     "metadata": {},
     "output_type": "display_data"
    },
    {
     "name": "stdout",
     "output_type": "stream",
     "text": [
      "SOAP features shape: (31872, 756)\n"
     ]
    }
   ],
   "source": [
    "numbers = list(sorted(set([int(n) for frame in frames for n in frame.numbers])))\n",
    "\n",
    "# initialize SOAP\n",
    "soap = SOAP(\n",
    "      global_species=numbers, \n",
    "      expansion_by_species_method='user defined',\n",
    "      **SOAP_HYPERS            \n",
    "  )\n",
    "\n",
    "X = None \n",
    "print(\"computing SOAP features...\")\n",
    "for i, frame in enumerate(tqdm(frames)):\n",
    "    # normalize cell for librascal input\n",
    "    if np.linalg.norm(frame.cell) < 1e-16:\n",
    "        extend = 1.5 * (np.max(frame.positions.flatten()) - np.min(frame.positions.flatten()))\n",
    "        frame.cell = [extend, extend, extend]\n",
    "        frame.pbc = True\n",
    "    frame.wrap(eps=1e-16)\n",
    "\n",
    "    x = soap.transform(frame).get_features(soap).mean(axis=0) # here it takes mean over atoms in the frame\n",
    "    if X is None:\n",
    "        X = np.zeros((len(frames), x.shape[-1]))\n",
    "    X[i] = x\n",
    "\n",
    "print(f\"SOAP features shape: {X.shape}\")\n",
    "np.save('full-featurization.npy', X)"
   ]
  },
  {
   "cell_type": "markdown",
   "metadata": {},
   "source": [
    "Farthest Point Sampling for the selection of diverse structure"
   ]
  },
  {
   "cell_type": "code",
   "execution_count": 215,
   "metadata": {},
   "outputs": [
    {
     "data": {
      "application/vnd.jupyter.widget-view+json": {
       "model_id": "2c0d2765b19c464bb0a65cef7725ba2a",
       "version_major": 2,
       "version_minor": 0
      },
      "text/plain": [
       "  0%|          | 0/99 [00:00<?, ?it/s]"
      ]
     },
     "metadata": {},
     "output_type": "display_data"
    },
    {
     "name": "stdout",
     "output_type": "stream",
     "text": [
      "FPS selected indices: (100,)\n",
      "Original: (4002, 756) ---> FPS: (100, 756)\n"
     ]
    }
   ],
   "source": [
    "n_FPS = 100 # number of structures to select \n",
    "struct_idx = FPS(n_to_select=n_FPS, progress_bar = True, initialize = 'random').fit(X.T).selected_idx_\n",
    "X_fps = X[struct_idx]\n",
    "\n",
    "print(f\"FPS selected indices: {struct_idx.shape}\")\n",
    "print(f\"Original: {X.shape} ---> FPS: {X_fps.shape}\")"
   ]
  },
  {
   "cell_type": "markdown",
   "metadata": {},
   "source": [
    "Saving the fps selected structure"
   ]
  },
  {
   "cell_type": "code",
   "execution_count": 216,
   "metadata": {},
   "outputs": [
    {
     "name": "stderr",
     "output_type": "stream",
     "text": [
      "/Users/shubhamdongriyal/opt/miniconda3/envs/pytorch_m1/lib/python3.10/site-packages/ase/io/extxyz.py:1000: UserWarning: write_xyz() overwriting array \"forces\" present in atoms.arrays with stored results from calculator\n",
      "  warnings.warn('write_xyz() overwriting array \"{0}\" present '\n"
     ]
    }
   ],
   "source": [
    "frames_fps = [frames[i] for i in struct_idx]\n",
    "write('fps_100_selected_900K.xyz', frames_fps, format='extxyz')"
   ]
  },
  {
   "cell_type": "markdown",
   "metadata": {},
   "source": [
    "Visualizing using the principal componenets of the selected dataset and the original dataset using the chemiscope"
   ]
  },
  {
   "cell_type": "code",
   "execution_count": 9,
   "metadata": {},
   "outputs": [],
   "source": [
    "X = StandardFlexibleScaler(column_wise=False).fit_transform(X)\n",
    "T = PCA(n_components=2).fit_transform(X)"
   ]
  },
  {
   "cell_type": "code",
   "execution_count": 12,
   "metadata": {},
   "outputs": [],
   "source": [
    "np.savetxt('PES_PCA.txt', np.concatenate([T, np.array([frame.info['energy'] for frame in frames]).reshape(-1, 1)], axis=1))"
   ]
  },
  {
   "cell_type": "code",
   "execution_count": 10,
   "metadata": {},
   "outputs": [
    {
     "name": "stdout",
     "output_type": "stream",
     "text": [
      "Available structure-level properties ['energy']\n",
      "Available atom-level properties ['forces', 'numbers', 'positions']\n"
     ]
    }
   ],
   "source": [
    "available_structure_properties = list(set([k for frame in frames for k in frame.info.keys()]))\n",
    "available_atom_level_properties = list(set([k for frame in frames for k in frame.arrays.keys()]))\n",
    "\n",
    "print(\"Available structure-level properties\", available_structure_properties)\n",
    "print(\"Available atom-level properties\", available_atom_level_properties)"
   ]
  },
  {
   "cell_type": "code",
   "execution_count": 11,
   "metadata": {},
   "outputs": [],
   "source": [
    "\n",
    "\n",
    "properties = {\n",
    "    \"PCA\": {\n",
    "        # change the following line if your map is per-atom\n",
    "        \"target\": \"structure\",\n",
    "        \"values\": T,\n",
    "\n",
    "        # change the following line to describe your map\n",
    "        \"description\": \"PCA of structure-averaged representation\",\n",
    "    },\n",
    "\n",
    "    # this is an example of how to add structure-level properties\n",
    "    \"energy\": {\n",
    "        \"target\": \"structure\",\n",
    "        \"values\": [frame.info['energy'] for frame in frames],\n",
    "\n",
    "        # change the following line to correspond to the units of your property\n",
    "        \"units\": \"eV\",\n",
    "    },\n",
    "\n",
    "    # this is an example of how to add atom-level properties\n",
    "    \"numbers\": {\n",
    "        \"target\": \"atom\",\n",
    "        \"values\": np.concatenate([frame.arrays['numbers'] for frame in frames]),\n",
    "    },\n",
    "}\n",
    "\n",
    "chemiscope.write_input(\n",
    "    path=f\"PES_PCA-chemiscope.json.gz\",\n",
    "    frames=frames,\n",
    "    properties=properties,\n",
    "\n",
    "    # # This is required to display properties with `target: \"atom\"`\n",
    "    # # Without this, the chemiscope will show only structure-level properties\n",
    "    # environments=chemiscope.all_atomic_environments(frames),\n",
    ")"
   ]
  },
  {
   "cell_type": "code",
   "execution_count": null,
   "metadata": {},
   "outputs": [],
   "source": []
  }
 ],
 "metadata": {
  "kernelspec": {
   "display_name": "Python 3 (ipykernel)",
   "language": "python",
   "name": "python3"
  },
  "language_info": {
   "codemirror_mode": {
    "name": "ipython",
    "version": 3
   },
   "file_extension": ".py",
   "mimetype": "text/x-python",
   "name": "python",
   "nbconvert_exporter": "python",
   "pygments_lexer": "ipython3",
   "version": "3.10.12"
  }
 },
 "nbformat": 4,
 "nbformat_minor": 2
}
